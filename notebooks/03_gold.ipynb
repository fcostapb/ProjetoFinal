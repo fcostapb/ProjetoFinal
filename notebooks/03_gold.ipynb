{
 "cells": [
  {
   "cell_type": "code",
   "execution_count": 1,
   "id": "ea45d051-a6dd-48f6-bc21-590e04e366b4",
   "metadata": {},
   "outputs": [],
   "source": [
    "from pyspark.sql import SparkSession\n",
    "from pyspark.sql.functions import col, to_date, year, when, lit, mean, coalesce, concat_ws, upper\n",
    "from delta.tables import DeltaTable"
   ]
  },
  {
   "cell_type": "code",
   "execution_count": 2,
   "id": "a75c8071-359f-4d4a-bf88-b0b18751ce7d",
   "metadata": {},
   "outputs": [],
   "source": [
    "# Configurar acesso ao MinIO\n",
    "minio_config = {\n",
    "    \"fs.s3a.access.key\": \"admin\",\n",
    "    \"fs.s3a.secret.key\": \"senhasegura\",\n",
    "    \"fs.s3a.endpoint\": \"http://minio:9000\",\n",
    "    \"fs.s3a.path.style.access\": \"true\",\n",
    "    \"fs.s3a.connection.ssl.enabled\": \"false\",\n",
    "    \"fs.s3a.impl\": \"org.apache.hadoop.fs.s3a.S3AFileSystem\",\n",
    "    \"fs.s3a.connection.ssl.enabled\": \"false\",\n",
    "    \"spark.hadoop.fs.s3a.impl.disable.cache\": \"true\",\n",
    "    \"fs.spark.hadoop.fs.s3a.attempts.maximum\":\"5\"\n",
    "}\n",
    "\n",
    "def create_spark_session() -> SparkSession:\n",
    "    spark = (\n",
    "        SparkSession.builder \\\n",
    "            .appName(\"GoldZone\") \\\n",
    "            .config(\"spark.jars.packages\", \"io.delta:delta-core_2.12:1.0.0,org.apache.hadoop:hadoop-aws:3.3.1\") \n",
    "            .config(\"spark.sql.extensions\", \"io.delta.sql.DeltaSparkSessionExtension\") \n",
    "            .config(\"spark.sql.catalog.spark_catalog\", \"org.apache.spark.sql.delta.catalog.DeltaCatalog\") \n",
    "            .config(\"spark.hadoop.fs.s3a.impl\", \"org.apache.hadoop.fs.s3a.S3AFileSystem\") \n",
    "            .config(\"spark.hadoop.fs.s3minio.impl\", \"org.apache.hadoop.fs.s3a.S3AFileSystem\")\n",
    "            .getOrCreate()\n",
    "    )\n",
    "    spark.sparkContext.setLogLevel(\"WARN\")\n",
    "    return spark\n",
    "\n",
    "spark = create_spark_session()\n",
    "\n",
    "for key, value in minio_config.items():\n",
    "    spark._jsc.hadoopConfiguration().set(key, value)"
   ]
  },
  {
   "cell_type": "code",
   "execution_count": 3,
   "id": "073d4f66-7ffb-468e-9194-4dfbb1662768",
   "metadata": {},
   "outputs": [
    {
     "data": {
      "text/plain": [
       "DataFrame[]"
      ]
     },
     "execution_count": 3,
     "metadata": {},
     "output_type": "execute_result"
    }
   ],
   "source": [
    "spark.sql(\"CREATE DATABASE IF NOT EXISTS gold\")"
   ]
  },
  {
   "cell_type": "code",
   "execution_count": 4,
   "id": "c42b2441-fcaa-4f21-8da7-8a2b95036590",
   "metadata": {},
   "outputs": [],
   "source": [
    "def transform_matches():\n",
    "    print(\"Transformando tabela matches...\")\n",
    "    \n",
    "    matches = spark.read.format(\"delta\").options(**minio_config).load(\"s3a://silver/soccer/matches_cleaned\")\n",
    "    \n",
    "    gold_matches = matches.select(\n",
    "        col(\"id\").alias(\"match_id\"),\n",
    "        col(\"season_formatted\").alias(\"season\"),\n",
    "        col(\"match_date\"),\n",
    "        col(\"home_team_api_id\").alias(\"home_team_id\"),\n",
    "        col(\"away_team_api_id\").alias(\"away_team_id\"),\n",
    "        col(\"home_team_goal\").alias(\"home_score\"),\n",
    "        col(\"away_team_goal\").alias(\"away_score\"),\n",
    "        col(\"league_id\"),\n",
    "        col(\"season_start_year\"),\n",
    "        col(\"match_result\"),\n",
    "        col(\"total_goals\"),\n",
    "        col(\"avg_home_odds\"),\n",
    "        col(\"avg_draw_odds\"),\n",
    "        col(\"avg_away_odds\")\n",
    "    ).dropDuplicates([\"match_id\"])\n",
    "\n",
    "    gold_matches = gold_matches.fillna({\n",
    "        \"home_score\": 0,\n",
    "        \"away_score\": 0,\n",
    "        \"total_goals\": 0,\n",
    "        \"avg_home_odds\": 0,\n",
    "        \"avg_draw_odds\": 0,\n",
    "        \"avg_away_odds\": 0\n",
    "    })\n",
    "    \n",
    "    gold_matches.write.format(\"delta\") \\\n",
    "        .options(**minio_config) \\\n",
    "        .partitionBy(\"season_start_year\", \"league_id\") \\\n",
    "        .mode(\"overwrite\") \\\n",
    "        .save(\"s3a://gold/soccer/matches\")\n",
    "    \n",
    "    print(\"Transformação de matches concluída!\")"
   ]
  },
  {
   "cell_type": "code",
   "execution_count": 5,
   "id": "efea395a-350a-4d14-a55e-d6000f224932",
   "metadata": {
    "tags": []
   },
   "outputs": [],
   "source": [
    "def transform_players():\n",
    "    print(\"Transformando tabela players...\")\n",
    "    \n",
    "    players = spark.read.format(\"delta\").options(**minio_config).load(\"s3a://silver/soccer/players_enhanced\")\n",
    "    \n",
    "    gold_players = players.select(\n",
    "        col(\"player_api_id\").alias(\"player_id\"),\n",
    "        col(\"player_name\"),\n",
    "        col(\"birth_date\"),\n",
    "        col(\"birth_year\"),\n",
    "        col(\"height_m\"),\n",
    "        col(\"weight_kg\"),\n",
    "        col(\"bmi\"),\n",
    "        col(\"position_category\"),\n",
    "        col(\"overall_rating\"),\n",
    "        col(\"potential\"),\n",
    "        col(\"preferred_foot\")\n",
    "    ).dropDuplicates([\"player_id\"])\n",
    "    \n",
    "    gold_players.write.format(\"delta\") \\\n",
    "        .options(**minio_config) \\\n",
    "        .mode(\"overwrite\") \\\n",
    "        .save(\"s3a://gold/soccer/players\")\n",
    "    \n",
    "    print(\"Transformação de players concluída!\")"
   ]
  },
  {
   "cell_type": "code",
   "execution_count": 6,
   "id": "f08a02a6-8bb7-4dfc-93e9-30612f0a071d",
   "metadata": {
    "tags": []
   },
   "outputs": [
    {
     "name": "stdout",
     "output_type": "stream",
     "text": [
      "Transformando tabela matches...\n",
      "Transformação de matches concluída!\n",
      "Transformando tabela players...\n",
      "Transformação de players concluída!\n",
      "\n",
      "Tabelas na camada Gold:\n",
      "+---------+------------+-----------+\n",
      "|namespace|   tableName|isTemporary|\n",
      "+---------+------------+-----------+\n",
      "|         |gold_matches|       true|\n",
      "|         |gold_players|       true|\n",
      "+---------+------------+-----------+\n",
      "\n"
     ]
    }
   ],
   "source": [
    "transform_matches()\n",
    "transform_players()\n",
    "\n",
    "spark.sql(\"\"\"\n",
    "CREATE OR REPLACE TEMPORARY VIEW gold_matches AS\n",
    "SELECT * FROM delta.`s3a://gold/soccer/matches`\n",
    "\"\"\")\n",
    "\n",
    "spark.sql(\"\"\"\n",
    "CREATE OR REPLACE TEMPORARY VIEW gold_players AS\n",
    "SELECT * FROM delta.`s3a://gold/soccer/players`\n",
    "\"\"\")\n",
    "\n",
    "print(\"\\nTabelas na camada Gold:\")\n",
    "spark.sql(\"SHOW TABLES IN gold\").show()"
   ]
  }
 ],
 "metadata": {
  "kernelspec": {
   "display_name": "Python 3 (ipykernel)",
   "language": "python",
   "name": "python3"
  },
  "language_info": {
   "codemirror_mode": {
    "name": "ipython",
    "version": 3
   },
   "file_extension": ".py",
   "mimetype": "text/x-python",
   "name": "python",
   "nbconvert_exporter": "python",
   "pygments_lexer": "ipython3",
   "version": "3.10.5"
  }
 },
 "nbformat": 4,
 "nbformat_minor": 5
}
